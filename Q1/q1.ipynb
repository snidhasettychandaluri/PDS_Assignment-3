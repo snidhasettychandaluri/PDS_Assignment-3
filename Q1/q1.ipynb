{
  "cells": [
    {
      "cell_type": "code",
      "execution_count": 1,
      "id": "4dff1dd1",
      "metadata": {
        "colab": {
          "base_uri": "https://localhost:8080/"
        },
        "id": "4dff1dd1",
        "outputId": "031f296b-0cbc-4af2-b89f-ead186fd47f8"
      },
      "outputs": [
        {
          "output_type": "stream",
          "name": "stdout",
          "text": [
            "Requirement already satisfied: requests in /usr/local/lib/python3.10/dist-packages (2.31.0)\n",
            "Requirement already satisfied: charset-normalizer<4,>=2 in /usr/local/lib/python3.10/dist-packages (from requests) (3.3.2)\n",
            "Requirement already satisfied: idna<4,>=2.5 in /usr/local/lib/python3.10/dist-packages (from requests) (3.6)\n",
            "Requirement already satisfied: urllib3<3,>=1.21.1 in /usr/local/lib/python3.10/dist-packages (from requests) (2.0.7)\n",
            "Requirement already satisfied: certifi>=2017.4.17 in /usr/local/lib/python3.10/dist-packages (from requests) (2024.2.2)\n"
          ]
        }
      ],
      "source": [
        "pip install requests"
      ]
    },
    {
      "cell_type": "code",
      "execution_count": 24,
      "id": "c6469146",
      "metadata": {
        "colab": {
          "base_uri": "https://localhost:8080/"
        },
        "id": "c6469146",
        "outputId": "41dbf537-966b-4f61-d6d4-508bf8ca74fc"
      },
      "outputs": [
        {
          "output_type": "stream",
          "name": "stdout",
          "text": [
            "{'data': {'count': 50, 'items': [{'full_name': 'Sean Klitzner', 'id': '36876758', 'is_private': False, 'is_verified': True, 'profile_pic_url': 'https://scontent-mia3-1.cdninstagram.com/v/t51.2885-19/335739462_228655502894101_8718929077705267750_n.jpg?stp=dst-jpg_s150x150&_nc_ht=scontent-mia3-1.cdninstagram.com&_nc_cat=101&_nc_ohc=apaF_XFU6tMAb599S9q&edm=ANg5bX4BAAAA&ccb=7-5&oh=00_AfAb5FZMtdLEmJELpTPRgFy1TeLD204h405xNmsJ3vQ6yg&oe=6623CA9B&_nc_sid=0055be', 'username': 'seanklitzner'}, {'full_name': 'Sofia Vergara', 'id': '239727980', 'is_private': False, 'is_verified': True, 'profile_pic_url': 'https://scontent-mia3-1.cdninstagram.com/v/t51.2885-19/98332166_245276569895880_5201690383163064320_n.jpg?stp=dst-jpg_s150x150&_nc_ht=scontent-mia3-1.cdninstagram.com&_nc_cat=1&_nc_ohc=ERBhIcoUZ3wAb6kCdV1&edm=ANg5bX4BAAAA&ccb=7-5&oh=00_AfDyvnJqtxEHBiHIKIFB3zGitPNpM2tVVTEMYclTJhHBHA&oe=6623AF52&_nc_sid=0055be', 'username': 'sofiavergara'}, {'full_name': 'joyride sweets', 'id': '26007295', 'is_private': False, 'is_verified': True, 'profile_pic_url': 'https://scontent-mia3-2.cdninstagram.com/v/t51.2885-19/317006036_1571631593334574_3494696981579203804_n.jpg?stp=dst-jpg_s150x150&_nc_ht=scontent-mia3-2.cdninstagram.com&_nc_cat=110&_nc_ohc=GLElDXKPIWcAb7n2l8G&edm=ANg5bX4BAAAA&ccb=7-5&oh=00_AfDY3e4PhmNSPwOTigZasEU7ic3jI1RMza41jrNnH_ztvg&oe=6623B233&_nc_sid=0055be', 'username': 'joyridesweets'}, {'full_name': '', 'id': '459111560', 'is_private': False, 'is_verified': True, 'profile_pic_url': 'https://scontent-mia3-1.cdninstagram.com/v/t51.2885-19/434043844_1135163571253112_3501676690100599206_n.jpg?stp=dst-jpg_s150x150&_nc_ht=scontent-mia3-1.cdninstagram.com&_nc_cat=1&_nc_ohc=XEZGPxglwvIAb5dcN42&edm=ANg5bX4BAAAA&ccb=7-5&oh=00_AfA7BsPlGnlaOe9yzY8GSFUiZ6kIveYn_DvKTri5VlLPtw&oe=6623E53F&_nc_sid=0055be', 'username': 'joynerlucas'}, {'full_name': 'OpenAI', 'id': '45374573700', 'is_private': False, 'is_verified': True, 'profile_pic_url': 'https://scontent-mia3-1.cdninstagram.com/v/t51.2885-19/429501791_778793800778881_5017721633573181500_n.jpg?stp=dst-jpg_s150x150&_nc_ht=scontent-mia3-1.cdninstagram.com&_nc_cat=1&_nc_ohc=h2VKy3KDNjIAb685-uU&edm=ANg5bX4BAAAA&ccb=7-5&oh=00_AfA1ggwxjQyfNP-SholmM6nTdzgA9WAQ6Ds2LzqAD69ViA&oe=6623BB32&_nc_sid=0055be', 'username': 'openai'}, {'full_name': 'champagnepapi', 'id': '14455831', 'is_private': False, 'is_verified': True, 'profile_pic_url': 'https://scontent-mia3-1.cdninstagram.com/v/t51.2885-19/395331934_288135007382889_470995621634686952_n.jpg?stp=dst-jpg_s150x150&_nc_ht=scontent-mia3-1.cdninstagram.com&_nc_cat=1&_nc_ohc=OGdjSLhwGJgAb7dK3Au&edm=ANg5bX4BAAAA&ccb=7-5&oh=00_AfBSJx_FKacwIBSkuvwPjVlRNfLFmD_Uw1lgs7ri2JbaXg&oe=6623CABD&_nc_sid=0055be', 'username': 'champagnepapi'}, {'full_name': 'Михаил Литвин', 'id': '1338246453', 'is_private': False, 'is_verified': True, 'profile_pic_url': 'https://scontent-mia3-1.cdninstagram.com/v/t51.2885-19/69261521_545070672967672_3604849300883898368_n.jpg?stp=dst-jpg_s150x150&_nc_ht=scontent-mia3-1.cdninstagram.com&_nc_cat=1&_nc_ohc=LzaCbKZ3cDwAb6PHgEs&edm=ANg5bX4BAAAA&ccb=7-5&oh=00_AfAJQOGwxrU8cxlCCnoUJAFFku1AsfzpqVICJFLeHTYPzg&oe=6623BAB4&_nc_sid=0055be', 'username': 'mikhail_litvin'}, {'full_name': 'Андрей Бурим', 'id': '3033759239', 'is_private': False, 'is_verified': False, 'profile_pic_url': 'https://scontent-mia3-1.cdninstagram.com/v/t51.2885-19/315992085_533483555312296_3556916097719283511_n.jpg?stp=dst-jpg_s150x150&_nc_ht=scontent-mia3-1.cdninstagram.com&_nc_cat=1&_nc_ohc=Z4sJ22siy-UAb6SjnBP&edm=ANg5bX4BAAAA&ccb=7-5&oh=00_AfB_MGOR_UZXJZbWRAHRZdCn-wX5FZsitur86drY_rmyPQ&oe=6623CA4E&_nc_sid=0055be', 'username': 'mellstroy'}, {'full_name': 'Phillip Kirylka', 'id': '1748903168', 'is_private': False, 'is_verified': False, 'profile_pic_url': 'https://scontent-mia3-1.cdninstagram.com/v/t51.2885-19/432429941_413441494570357_972595550554536812_n.jpg?stp=dst-jpg_s150x150&_nc_ht=scontent-mia3-1.cdninstagram.com&_nc_cat=101&_nc_ohc=zPFRZIh5-1UAb7eoDKG&edm=ANg5bX4BAAAA&ccb=7-5&oh=00_AfBaL4xz0reaquPWdU9HQcMLngUbBFZO2noqq9aj1f06lg&oe=6623DDB1&_nc_sid=0055be', 'username': 'philproofficial'}, {'full_name': 'Fanatics', 'id': '47860303', 'is_private': False, 'is_verified': True, 'profile_pic_url': 'https://scontent-mia3-1.cdninstagram.com/v/t51.2885-19/373429944_216283278085997_3177763783851097337_n.jpg?stp=dst-jpg_s150x150&_nc_ht=scontent-mia3-1.cdninstagram.com&_nc_cat=1&_nc_ohc=7SnATPJEqqQAb7rSjTX&edm=ANg5bX4BAAAA&ccb=7-5&oh=00_AfDKf0zkUuVh67JKqMHK1DGTthHhQFQK9gJGoFrfnN-YWA&oe=6623B42B&_nc_sid=0055be', 'username': 'fanatics'}, {'full_name': 'James Harden', 'id': '12043476', 'is_private': False, 'is_verified': True, 'profile_pic_url': 'https://scontent-mia3-1.cdninstagram.com/v/t51.2885-19/361556560_3560164747563338_3273704176076433583_n.jpg?stp=dst-jpg_s150x150&_nc_ht=scontent-mia3-1.cdninstagram.com&_nc_cat=1&_nc_ohc=XAaeuMjnXhMAb4xVXVa&edm=ANg5bX4BAAAA&ccb=7-5&oh=00_AfCRqOdvh0ePlpDEz0xLWsSpudKnHyMoyJZto_X1N2dBHQ&oe=6623DF37&_nc_sid=0055be', 'username': 'jharden13'}, {'full_name': 'Michael Rubin', 'id': '2290271999', 'is_private': False, 'is_verified': True, 'profile_pic_url': 'https://scontent-mia3-1.cdninstagram.com/v/t51.2885-19/334600441_2753365744800330_3692460598442955418_n.jpg?stp=dst-jpg_s150x150&_nc_ht=scontent-mia3-1.cdninstagram.com&_nc_cat=1&_nc_ohc=D_gasd_cM1cAb5eCX-h&edm=ANg5bX4BAAAA&ccb=7-5&oh=00_AfAWEaTJXBqRjwacWFYYyb-bCsKPelrQ6-PYOghraYgBEA&oe=6623D774&_nc_sid=0055be', 'username': 'michaelrubin'}, {'full_name': 'Kim Kardashian', 'id': '18428658', 'is_private': False, 'is_verified': True, 'profile_pic_url': 'https://scontent-mia3-1.cdninstagram.com/v/t51.2885-19/314397231_636674618202803_1672434101401302981_n.jpg?stp=dst-jpg_s150x150&_nc_ht=scontent-mia3-1.cdninstagram.com&_nc_cat=1&_nc_ohc=UaKTMqKc3y8Ab6P0Mil&edm=ANg5bX4BAAAA&ccb=7-5&oh=00_AfDdV6YwgZmtDOpYtVZFwr4KHeOxB7kLeiZWt1tKr70Crg&oe=6623CE1E&_nc_sid=0055be', 'username': 'kimkardashian'}, {'full_name': 'Zephyros North️', 'id': '202222140', 'is_private': False, 'is_verified': False, 'profile_pic_url': 'https://scontent-mia3-1.cdninstagram.com/v/t51.2885-19/422773317_896955751896397_8650684624218265698_n.jpg?stp=dst-jpg_s150x150&_nc_ht=scontent-mia3-1.cdninstagram.com&_nc_cat=101&_nc_ohc=TUCG_r_2SPAAb5tVYph&edm=ANg5bX4BAAAA&ccb=7-5&oh=00_AfCx4lfAQIGby20eVuymuILG4hsoOLOG_QS7LY9RZoNmNg&oe=6623C597&_nc_sid=0055be', 'username': 'zefnorth'}, {'full_name': 'Shawn Hendrix', 'id': '10890586826', 'is_private': False, 'is_verified': True, 'profile_pic_url': 'https://scontent-mia3-1.cdninstagram.com/v/t51.2885-19/308306160_3361243434147503_3859201624925869302_n.jpg?stp=dst-jpg_s150x150&_nc_ht=scontent-mia3-1.cdninstagram.com&_nc_cat=111&_nc_ohc=URnjVjzj2doAb6XP2v2&edm=ANg5bX4BAAAA&ccb=7-5&oh=00_AfC7lMYgibkX-erK2j6q_Ax_0ggVGwTiMTF-BdSy1pQaEQ&oe=6623DB65&_nc_sid=0055be', 'username': 'theshawnhendrix'}, {'full_name': 'Ben Francis MBE', 'id': '279273355', 'is_private': False, 'is_verified': True, 'profile_pic_url': 'https://scontent-mia3-1.cdninstagram.com/v/t51.2885-19/395313589_1130529624576497_4525738766749263156_n.jpg?stp=dst-jpg_s150x150&_nc_ht=scontent-mia3-1.cdninstagram.com&_nc_cat=1&_nc_ohc=XlXGKL1goK0Ab7Lag-y&edm=ANg5bX4BAAAA&ccb=7-5&oh=00_AfCjsf6CEgpijI9tnBi-JNRuQkdTs6ZZw42rfgyXdaENcg&oe=6623B078&_nc_sid=0055be', 'username': 'benfrancis'}, {'full_name': 'David Bautista', 'id': '1568640691', 'is_private': False, 'is_verified': True, 'profile_pic_url': 'https://scontent-mia3-1.cdninstagram.com/v/t51.2885-19/313798018_503210945026020_1603036586902050728_n.jpg?stp=dst-jpg_s150x150&_nc_ht=scontent-mia3-1.cdninstagram.com&_nc_cat=1&_nc_ohc=bb26EwLMGxUAb4AIWIR&edm=ANg5bX4BAAAA&ccb=7-5&oh=00_AfD6s0-LSH6neAzotRNF9V-kO6DNlNUDMpU6mNkh0xU7GA&oe=6623ADC5&_nc_sid=0055be', 'username': 'davebautista'}, {'full_name': 'kyle nutt', 'id': '280818544', 'is_private': False, 'is_verified': True, 'profile_pic_url': 'https://scontent-mia3-1.cdninstagram.com/v/t51.2885-19/397907774_1378025463120210_8693769948308758789_n.jpg?stp=dst-jpg_s150x150&_nc_ht=scontent-mia3-1.cdninstagram.com&_nc_cat=106&_nc_ohc=mJ77z6ii2KQAb457ta9&edm=ANg5bX4BAAAA&ccb=7-5&oh=00_AfAQcWt6BATQwIRr5cJ-se_g9Ha77y5xmaT289AWrgZhQw&oe=6623DBA4&_nc_sid=0055be', 'username': 'kylenutt'}, {'full_name': 'Alex Esteban', 'id': '1367451409', 'is_private': False, 'is_verified': True, 'profile_pic_url': 'https://scontent-mia3-1.cdninstagram.com/v/t51.2885-19/419490880_203644726169780_4461130991943779652_n.jpg?stp=dst-jpg_s150x150&_nc_ht=scontent-mia3-1.cdninstagram.com&_nc_cat=108&_nc_ohc=T1FuXlCq3_QAb5zFGN4&edm=ANg5bX4BAAAA&ccb=7-5&oh=00_AfA54RaiWcQr_9gqWQocg1T45dJv2gCx12BEEQoU2KyAOg&oe=6623B2FF&_nc_sid=0055be', 'username': 'alexestebanofficial'}, {'full_name': 'Kill Tony', 'id': '1930621978', 'is_private': False, 'is_verified': False, 'profile_pic_url': 'https://scontent-mia3-1.cdninstagram.com/v/t51.2885-19/49656661_253595278912643_948246753671380992_n.jpg?stp=dst-jpg_s150x150&_nc_ht=scontent-mia3-1.cdninstagram.com&_nc_cat=1&_nc_ohc=Jmm5BkQbcaAAb68ECiO&edm=ANg5bX4BAAAA&ccb=7-5&oh=00_AfBUQsWCv_cICww0YVRFkqBr5Dre6AKnyKEcGFHksx4tmg&oe=6623DA83&_nc_sid=0055be', 'username': 'killtonyshow'}, {'full_name': 'Tampa Bay Buccaneers', 'id': '219971988', 'is_private': False, 'is_verified': True, 'profile_pic_url': 'https://scontent-mia3-1.cdninstagram.com/v/t51.2885-19/403927764_879861560517735_4584774969923662888_n.jpg?stp=dst-jpg_s150x150&_nc_ht=scontent-mia3-1.cdninstagram.com&_nc_cat=1&_nc_ohc=jPCJZdYWQ0QAb5En5yn&edm=ANg5bX4BAAAA&ccb=7-5&oh=00_AfAtL03fRhNTkzDTcQdO8gAG2cKHOYa24y2vHgWK25zwuw&oe=6623CA69&_nc_sid=0055be', 'username': 'buccaneers'}, {'full_name': 'Justin Timberlake', 'id': '303054725', 'is_private': False, 'is_verified': True, 'profile_pic_url': 'https://scontent-mia3-1.cdninstagram.com/v/t51.2885-19/420637630_317483831293229_52799959493669486_n.jpg?stp=dst-jpg_s150x150&_nc_ht=scontent-mia3-1.cdninstagram.com&_nc_cat=1&_nc_ohc=W30oqIVuXhgAb6HxS95&edm=ANg5bX4BAAAA&ccb=7-5&oh=00_AfCtvYAr5-7wNje38KImDrvpoFGGjXk1jOYT1ISFZIv08w&oe=6623CE38&_nc_sid=0055be', 'username': 'justintimberlake'}, {'full_name': 'Charlotte Hornets', 'id': '29983007', 'is_private': False, 'is_verified': True, 'profile_pic_url': 'https://scontent-mia3-1.cdninstagram.com/v/t51.2885-19/436591281_1140438657049257_6356984101094835823_n.jpg?stp=dst-jpg_s150x150&_nc_ht=scontent-mia3-1.cdninstagram.com&_nc_cat=1&_nc_ohc=dLCtXGLyADYAb70BGIY&edm=ANg5bX4BAAAA&ccb=7-5&oh=00_AfDib3S4KPbADfTAdfd84NZF2ZhvhgBPZM4jUFxUVa_YFA&oe=6623B83B&_nc_sid=0055be', 'username': 'hornets'}, {'full_name': 'Sam Thomas', 'id': '279713504', 'is_private': False, 'is_verified': False, 'profile_pic_url': 'https://scontent-mia3-1.cdninstagram.com/v/t51.2885-19/432552732_1570871096994882_3380609494306882404_n.jpg?stp=dst-jpg_s150x150&_nc_ht=scontent-mia3-1.cdninstagram.com&_nc_cat=106&_nc_ohc=JX6AoDcO6UMAb5PNFRo&edm=ANg5bX4BAAAA&ccb=7-5&oh=00_AfD6EGKT7aL_IS4l8thWCqdnh1dTS6QLRj9NCy-8_OWlJA&oe=6623CF62&_nc_sid=0055be', 'username': 'samjeffthom'}, {'full_name': 'Matthew Patrick', 'id': '1988061047', 'is_private': False, 'is_verified': True, 'profile_pic_url': 'https://scontent-mia3-2.cdninstagram.com/v/t51.2885-19/432267289_1127095125136843_4608251467469479015_n.jpg?stp=dst-jpg_s150x150&_nc_ht=scontent-mia3-2.cdninstagram.com&_nc_cat=107&_nc_ohc=xOGWa7wynyoAb5mDojb&edm=ANg5bX4BAAAA&ccb=7-5&oh=00_AfDM08RKpx_xWH2EzPav3mg7cZkyvjyUkZ1Nllv8Wp4TWg&oe=6623AFD1&_nc_sid=0055be', 'username': 'matpatgt'}, {'full_name': \"Suga Sean O'Malley\", 'id': '529118260', 'is_private': False, 'is_verified': True, 'profile_pic_url': 'https://scontent-mia3-1.cdninstagram.com/v/t51.2885-19/343909647_233221975976531_8928808551512743929_n.jpg?stp=dst-jpg_s150x150&_nc_ht=scontent-mia3-1.cdninstagram.com&_nc_cat=1&_nc_ohc=J05lSYDqujQAb6jUDKw&edm=ANg5bX4BAAAA&ccb=7-5&oh=00_AfB-pxqHALxNFALKxJgZNKHLHDNpFzZ7atcO01QemAHKGw&oe=6623B752&_nc_sid=0055be', 'username': 'sugasean'}, {'full_name': 'OHIOBOSS SATOYU', 'id': '24123233222', 'is_private': False, 'is_verified': False, 'profile_pic_url': 'https://scontent-mia3-1.cdninstagram.com/v/t51.2885-19/426167763_368540726031132_6303469087697850065_n.jpg?stp=dst-jpg_s150x150&_nc_ht=scontent-mia3-1.cdninstagram.com&_nc_cat=1&_nc_ohc=rULxhBindRsAb45s-CS&edm=ANg5bX4BAAAA&ccb=7-5&oh=00_AfAaIAmcdHEhE4nlFMgLn3IxTcTgyLglaJXQhO89TgRs0A&oe=6623C838&_nc_sid=0055be', 'username': 'satoyuohioboss'}, {'full_name': 'Fik-Shun Stegall', 'id': '449885581', 'is_private': False, 'is_verified': True, 'profile_pic_url': 'https://scontent-mia3-1.cdninstagram.com/v/t51.2885-19/344349081_187144570924417_8282068734745293424_n.jpg?stp=dst-jpg_s150x150&_nc_ht=scontent-mia3-1.cdninstagram.com&_nc_cat=1&_nc_ohc=NgKD3_uhAKMAb5Edde8&edm=ANg5bX4BAAAA&ccb=7-5&oh=00_AfBUoBmZ3ganLNv7-PM2gGJmqil6aIc8Sfg1WQ8GJJi6ZQ&oe=6623D61D&_nc_sid=0055be', 'username': 'dance10fikshun'}, {'full_name': 'Bobbi Althoff', 'id': '3580942831', 'is_private': False, 'is_verified': True, 'profile_pic_url': 'https://scontent-mia3-1.cdninstagram.com/v/t51.2885-19/419712467_1329182181107442_220474710312926268_n.jpg?stp=dst-jpg_s150x150&_nc_ht=scontent-mia3-1.cdninstagram.com&_nc_cat=1&_nc_ohc=k_Ds2-lVPY8Ab4aNwyA&edm=ANg5bX4BAAAA&ccb=7-5&oh=00_AfDPK4wVPYRPs0EP6xfDiJQjV7GclNsTJxKU7JkhvXCtEA&oe=6623BDC9&_nc_sid=0055be', 'username': 'bobbialthoff'}, {'full_name': 'The Aphmeow Store', 'id': '49925443508', 'is_private': False, 'is_verified': False, 'profile_pic_url': 'https://scontent-mia3-2.cdninstagram.com/v/t51.2885-19/337325554_3397705720548842_4285045132676171259_n.jpg?stp=dst-jpg_s150x150&_nc_ht=scontent-mia3-2.cdninstagram.com&_nc_cat=102&_nc_ohc=h5zLoTRQRC4Ab6hqabr&edm=ANg5bX4BAAAA&ccb=7-5&oh=00_AfBpEuGo5-yxOPkVVW4qJ_vJFrQp8mpY0cDnETLq7rWqaA&oe=6623DBD1&_nc_sid=0055be', 'username': 'aphmeow_store'}, {'full_name': 'flame', 'id': '18900337', 'is_private': False, 'is_verified': True, 'profile_pic_url': 'https://scontent-mia3-1.cdninstagram.com/v/t51.2885-19/11348214_1481558242162220_192850898_a.jpg?stp=dst-jpg_s150x150&_nc_ht=scontent-mia3-1.cdninstagram.com&_nc_cat=1&_nc_ohc=lbYAOUYoYvIAb7Koxgs&edm=ANg5bX4BAAAA&ccb=7-5&oh=00_AfCSb6DimUY-SrkuPs1NoiiefhrV__hBewC58wF81Htw6Q&oe=6623C921&_nc_sid=0055be', 'username': 'travisscott'}, {'full_name': 'Nathan', 'id': '489135673', 'is_private': False, 'is_verified': True, 'profile_pic_url': 'https://scontent-mia3-1.cdninstagram.com/v/t51.2885-19/413243326_893573962286041_5625883307056844124_n.jpg?stp=dst-jpg_s150x150&_nc_ht=scontent-mia3-1.cdninstagram.com&_nc_cat=1&_nc_ohc=8t1t8GoTtWUAb4AusUS&edm=ANg5bX4BAAAA&ccb=7-5&oh=00_AfD6Et-4IM55__DCRzbvIpr9lRSpIY4qj4TRdcIyXJ-0IQ&oe=6623BBD3&_nc_sid=0055be', 'username': 'unspeakable'}, {'full_name': 'Austin Russell', 'id': '60002811680', 'is_private': True, 'is_verified': True, 'profile_pic_url': 'https://scontent-mia3-2.cdninstagram.com/v/t51.2885-19/347448116_794331742294239_3729724148006380493_n.jpg?stp=dst-jpg_s150x150&_nc_ht=scontent-mia3-2.cdninstagram.com&_nc_cat=103&_nc_ohc=R-fgXfiPH9IAb5McaWd&edm=ANg5bX4BAAAA&ccb=7-5&oh=00_AfB4WESVAsJ_g_Gndl3yaFIdtJGdqisDttInE0Bd6vfcZA&oe=6623C58B&_nc_sid=0055be', 'username': 'austinrussell'}, {'full_name': 'federico muyshondt', 'id': '37825665', 'is_private': True, 'is_verified': False, 'profile_pic_url': 'https://scontent-mia3-1.cdninstagram.com/v/t51.2885-19/11856849_999956653358903_1996413224_a.jpg?_nc_ht=scontent-mia3-1.cdninstagram.com&_nc_cat=111&_nc_ohc=P2DN0u4T4vkAb4jGSSo&edm=ANg5bX4BAAAA&ccb=7-5&oh=00_AfCSsqtrBHfKwGbrqmrsWw8OX2qaEMcl8PFpgP5USGPSZA&oe=6623D899&_nc_sid=0055be', 'username': 'fedemuyshondt'}, {'full_name': 'Golf With Chandler', 'id': '60525891966', 'is_private': False, 'is_verified': False, 'profile_pic_url': 'https://scontent-mia3-2.cdninstagram.com/v/t51.2885-19/356618192_573328061410941_90778475312197628_n.jpg?stp=dst-jpg_s150x150&_nc_ht=scontent-mia3-2.cdninstagram.com&_nc_cat=109&_nc_ohc=j5Ifmiad0kYAb7QTWuN&edm=ANg5bX4BAAAA&ccb=7-5&oh=00_AfCep7QHCIjk2U_in4ChFFvhAMrR4o3IFlA3s7hUmTPygA&oe=6623E3F6&_nc_sid=0055be', 'username': 'golfwithchandler'}, {'full_name': 'Marco Arias Rivero', 'id': '16574315562', 'is_private': False, 'is_verified': False, 'profile_pic_url': 'https://scontent-mia3-1.cdninstagram.com/v/t51.2885-19/429150919_1095123241726824_2943335113255796759_n.jpg?stp=dst-jpg_s150x150&_nc_ht=scontent-mia3-1.cdninstagram.com&_nc_cat=1&_nc_ohc=yGY5pd7wXGoAb7q7rWp&edm=ANg5bX4BAAAA&ccb=7-5&oh=00_AfDzYVafyJlkMlzy3cx1dNwIoA5Faq-4P0-dSluBTtApjw&oe=6623CE63&_nc_sid=0055be', 'username': 'marcoaesth'}, {'full_name': 'Joey Levy', 'id': '331428397', 'is_private': False, 'is_verified': True, 'profile_pic_url': 'https://scontent-mia3-2.cdninstagram.com/v/t51.2885-19/298100315_3236391846577461_4541778562545697080_n.jpg?stp=dst-jpg_s150x150&_nc_ht=scontent-mia3-2.cdninstagram.com&_nc_cat=109&_nc_ohc=Kiz77K6u91YAb7moCmw&edm=ANg5bX4BAAAA&ccb=7-5&oh=00_AfDkjZcTK8wDjHS5rehe73usEWihtUboFv8Xx-h_GCSiwQ&oe=6623CD50&_nc_sid=0055be', 'username': 'joeyslevy'}, {'full_name': 'Ryan Garcia', 'id': '380088587', 'is_private': False, 'is_verified': True, 'profile_pic_url': 'https://scontent-mia3-1.cdninstagram.com/v/t51.2885-19/412038613_1751738741972315_2427712737478256551_n.jpg?stp=dst-jpg_s150x150&_nc_ht=scontent-mia3-1.cdninstagram.com&_nc_cat=1&_nc_ohc=YX_RnnwUoMEAb4xRgBN&edm=ANg5bX4BAAAA&ccb=7-5&oh=00_AfBk3YlEMlJNkQWl7fz8SL2InrY-JUpyTDGvWtr_NDJtKw&oe=6623D7E3&_nc_sid=0055be', 'username': 'kingryan'}, {'full_name': 'Taylor Swift', 'id': '11830955', 'is_private': False, 'is_verified': True, 'profile_pic_url': 'https://scontent-mia3-1.cdninstagram.com/v/t51.2885-19/432597291_3681183002154789_5473029370098280466_n.jpg?stp=dst-jpg_s150x150&_nc_ht=scontent-mia3-1.cdninstagram.com&_nc_cat=1&_nc_ohc=TfhGoWDJ2z8Ab7MHUOD&edm=ANg5bX4BAAAA&ccb=7-5&oh=00_AfAAt_huoapue3hltQtd5pyZjdfDUhZF80RBZaisy5AGew&oe=6623CC1F&_nc_sid=0055be', 'username': 'taylorswift'}, {'full_name': '환', 'id': '7863755378', 'is_private': False, 'is_verified': False, 'profile_pic_url': 'https://scontent-mia3-2.cdninstagram.com/v/t51.2885-19/371500659_157138324095999_3439404604988549362_n.jpg?stp=dst-jpg_s150x150&_nc_ht=scontent-mia3-2.cdninstagram.com&_nc_cat=103&_nc_ohc=r97IKru7nQgAb7b8vSy&edm=ANg5bX4BAAAA&ccb=7-5&oh=00_AfAPO5i0g3n9lvK4Aemdb0MuzyzSOr6qoHv-AHjKHptzyw&oe=6623CB8F&_nc_sid=0055be', 'username': 'k.t._hwan'}, {'full_name': 'Samir Chaudry', 'id': '26947577', 'is_private': False, 'is_verified': True, 'profile_pic_url': 'https://scontent-mia3-1.cdninstagram.com/v/t51.2885-19/343383573_922683409036340_2792732888289110154_n.jpg?stp=dst-jpg_s150x150&_nc_ht=scontent-mia3-1.cdninstagram.com&_nc_cat=108&_nc_ohc=96gqUv93Cb4Ab5kgb21&edm=ANg5bX4BAAAA&ccb=7-5&oh=00_AfDpMfXwD0aPxrZzKDVqi7FbFbL_QMZ_j1CxuYlGZhEmUw&oe=6623BCDA&_nc_sid=0055be', 'username': 'samirchaudry'}, {'full_name': 'Inter Miami CF', 'id': '6937659083', 'is_private': False, 'is_verified': True, 'profile_pic_url': 'https://scontent-mia3-1.cdninstagram.com/v/t51.2885-19/434546600_920786669516917_4748178074662734216_n.jpg?stp=dst-jpg_s150x150&_nc_ht=scontent-mia3-1.cdninstagram.com&_nc_cat=1&_nc_ohc=F3GPkpQRQPIAb5DG-Nd&edm=ANg5bX4BAAAA&ccb=7-5&oh=00_AfDsiiBsNzO82POzmHsz_bIUz93VVyRqsh_d9G9hZ5j-yw&oe=6623C653&_nc_sid=0055be', 'username': 'intermiamicf'}, {'full_name': 'James Seo', 'id': '2018552975', 'is_private': False, 'is_verified': True, 'profile_pic_url': 'https://scontent-mia3-1.cdninstagram.com/v/t51.2885-19/188115660_524387685605368_6202668192488740047_n.jpg?stp=dst-jpg_s150x150&_nc_ht=scontent-mia3-1.cdninstagram.com&_nc_cat=1&_nc_ohc=MjD4tJQYZYAAb7Noyrc&edm=ANg5bX4BAAAA&ccb=7-5&oh=00_AfDf_lIdXT8nzIdqEC5uGkWSUtUVk5QLa7tr4B-9mDufpw&oe=6623B4FB&_nc_sid=0055be', 'username': 'itsjamesseo'}, {'full_name': 'Jake Karls', 'id': '444662519', 'is_private': False, 'is_verified': True, 'profile_pic_url': 'https://scontent-mia3-2.cdninstagram.com/v/t51.2885-19/368566948_313515697901611_2650906271913546337_n.jpg?stp=dst-jpg_s150x150&_nc_ht=scontent-mia3-2.cdninstagram.com&_nc_cat=107&_nc_ohc=-B9u_d8NFRwAb4Gyyss&edm=ANg5bX4BAAAA&ccb=7-5&oh=00_AfDZhxBnxZUpLTSskEIFe5diTk7_uxy9fGu8RsIZYP_aeQ&oe=6623B1BF&_nc_sid=0055be', 'username': 'jakekarls_'}, {'full_name': 'Mid-Day Squares', 'id': '5993282954', 'is_private': False, 'is_verified': True, 'profile_pic_url': 'https://scontent-mia3-1.cdninstagram.com/v/t51.2885-19/246344972_3885032458265300_6686377509343078826_n.jpg?stp=dst-jpg_s150x150&_nc_ht=scontent-mia3-1.cdninstagram.com&_nc_cat=108&_nc_ohc=Ev2aTU1lozcAb5L9HNn&edm=ANg5bX4BAAAA&ccb=7-5&oh=00_AfAhg0cMJap8QY1anFOivUn88FbNUsxhhubFtabu2GH52g&oe=6623BFEF&_nc_sid=0055be', 'username': 'middaysquares'}, {'full_name': 'Olivia Dunne', 'id': '45339167', 'is_private': False, 'is_verified': True, 'profile_pic_url': 'https://scontent-mia3-1.cdninstagram.com/v/t51.2885-19/355852042_231544369735592_5579614228829243672_n.jpg?stp=dst-jpg_s150x150&_nc_ht=scontent-mia3-1.cdninstagram.com&_nc_cat=1&_nc_ohc=Lfp_vlJWYqsAb7ekNsw&edm=ANg5bX4BAAAA&ccb=7-5&oh=00_AfDGsKfOD0l7qAU25EOfC217fOJhVDj7zEFfAMpf4wy85Q&oe=6623DAF6&_nc_sid=0055be', 'username': 'livvydunne'}, {'full_name': 'Luke Nichols', 'id': '7736730017', 'is_private': False, 'is_verified': False, 'profile_pic_url': 'https://scontent-mia3-1.cdninstagram.com/v/t51.2885-19/31340376_1998906553771098_4360669137303764992_n.jpg?stp=dst-jpg_s150x150&_nc_ht=scontent-mia3-1.cdninstagram.com&_nc_cat=106&_nc_ohc=ATMOn2GQZnwAb7t39Xu&edm=ANg5bX4BAAAA&ccb=7-5&oh=00_AfDGjlFQFx_iNhcdDpFwyChr-5c5sQFdjMQPTU_CgDgRqA&oe=6623CEBE&_nc_sid=0055be', 'username': 'outdoorboyschannel'}, {'full_name': 'sabrina baheri', 'id': '3078556776', 'is_private': True, 'is_verified': False, 'profile_pic_url': 'https://scontent-mia3-1.cdninstagram.com/v/t51.2885-19/434456909_2039185633123571_1180576630520436489_n.jpg?stp=dst-jpg_s150x150&_nc_ht=scontent-mia3-1.cdninstagram.com&_nc_cat=111&_nc_ohc=VxivRTCHCQ4Ab4ic20O&edm=ANg5bX4BAAAA&ccb=7-5&oh=00_AfDT8k7eAZ3uts0F-AvbLdpegbCTf73oUBK-sFq95FnPUw&oe=6623AF6C&_nc_sid=0055be', 'username': 'sabrina.baheri'}, {'full_name': 'Jimmy Butler', 'id': '371120493', 'is_private': False, 'is_verified': True, 'profile_pic_url': 'https://scontent-mia3-1.cdninstagram.com/v/t51.2885-19/31501738_1955330927819409_6805546796304039936_n.jpg?stp=dst-jpg_s150x150&_nc_ht=scontent-mia3-1.cdninstagram.com&_nc_cat=1&_nc_ohc=E6QX3gkcw1UAb7Tj79Y&edm=ANg5bX4BAAAA&ccb=7-5&oh=00_AfBJLMynVPOBvR_9--dD26GJFFHkYc6SHM0biX0XkwgdPA&oe=6623CE03&_nc_sid=0055be', 'username': 'jimmybutler'}, {'full_name': 'Bayashi_バヤシ', 'id': '9945631750', 'is_private': False, 'is_verified': True, 'profile_pic_url': 'https://scontent-mia3-1.cdninstagram.com/v/t51.2885-19/283762385_702128607564121_8000540195901855766_n.jpg?stp=dst-jpg_s150x150&_nc_ht=scontent-mia3-1.cdninstagram.com&_nc_cat=1&_nc_ohc=RqRas-91fSkAb5r1yR7&edm=ANg5bX4BAAAA&ccb=7-5&oh=00_AfBGKY8XdkMeV26eZrHENuM96oHdeBcg1sUoDWSa2Pi-PQ&oe=6623DDF6&_nc_sid=0055be', 'username': 'bayashi_tv'}]}, 'pagination_token': 'GE0DCwopTQcSLA4TAF4cIRo1DCRHQ28nVzgHBQcjFC8HWRUTFm4CO3MlRz5UDAs6AAY7OxxLHz5NN2UzAUEPPAk5ESs6IR8PEDdeM0ojIjwdODwKGQ1tPzkfLgcRByszEwJfKDcnKTUnA0MSMh9LFgorNBY-OB0NJgkhGCIbQD4pGVEtLk4lTUdGIxoDFwgYAS07PhMEGEYTQT1ROhYOBisQXhgiKydfLkklSgIHIy0LDxwsGgAcCh1NAlASWjoRMC03BH0QUAQHBwsbBkg7BggBCA'}\n"
          ]
        }
      ],
      "source": [
        "import requests\n",
        "\n",
        "url = \"https://instagram-scraper-api2.p.rapidapi.com/v1/following\"\n",
        "\n",
        "querystring = {\"username_or_id_or_url\":\"mrbeast\"}\n",
        "\n",
        "headers = {\n",
        "\t\"X-RapidAPI-Key\": \"06464de97emsha249b9f10b2ac1fp1daa7bjsnd5ba63b97bca\",\n",
        "\t\"X-RapidAPI-Host\": \"instagram-scraper-api2.p.rapidapi.com\"\n",
        "}\n",
        "\n",
        "response = requests.get(url, headers=headers, params=querystring)\n",
        "\n",
        "print(response.json())"
      ]
    },
    {
      "cell_type": "code",
      "execution_count": 3,
      "id": "3a23fc20",
      "metadata": {
        "colab": {
          "base_uri": "https://localhost:8080/"
        },
        "id": "3a23fc20",
        "outputId": "952dd7ee-72b4-4757-f269-20015c0a6a8a"
      },
      "outputs": [
        {
          "output_type": "stream",
          "name": "stdout",
          "text": [
            "Collecting dash\n",
            "  Downloading dash-2.16.1-py3-none-any.whl (10.2 MB)\n",
            "\u001b[2K     \u001b[90m━━━━━━━━━━━━━━━━━━━━━━━━━━━━━━━━━━━━━━━━\u001b[0m \u001b[32m10.2/10.2 MB\u001b[0m \u001b[31m36.7 MB/s\u001b[0m eta \u001b[36m0:00:00\u001b[0m\n",
            "\u001b[?25hRequirement already satisfied: Flask<3.1,>=1.0.4 in /usr/local/lib/python3.10/dist-packages (from dash) (2.2.5)\n",
            "Requirement already satisfied: Werkzeug<3.1 in /usr/local/lib/python3.10/dist-packages (from dash) (3.0.2)\n",
            "Requirement already satisfied: plotly>=5.0.0 in /usr/local/lib/python3.10/dist-packages (from dash) (5.15.0)\n",
            "Collecting dash-html-components==2.0.0 (from dash)\n",
            "  Downloading dash_html_components-2.0.0-py3-none-any.whl (4.1 kB)\n",
            "Collecting dash-core-components==2.0.0 (from dash)\n",
            "  Downloading dash_core_components-2.0.0-py3-none-any.whl (3.8 kB)\n",
            "Collecting dash-table==5.0.0 (from dash)\n",
            "  Downloading dash_table-5.0.0-py3-none-any.whl (3.9 kB)\n",
            "Requirement already satisfied: importlib-metadata in /usr/local/lib/python3.10/dist-packages (from dash) (7.1.0)\n",
            "Requirement already satisfied: typing-extensions>=4.1.1 in /usr/local/lib/python3.10/dist-packages (from dash) (4.11.0)\n",
            "Requirement already satisfied: requests in /usr/local/lib/python3.10/dist-packages (from dash) (2.31.0)\n",
            "Collecting retrying (from dash)\n",
            "  Downloading retrying-1.3.4-py3-none-any.whl (11 kB)\n",
            "Requirement already satisfied: nest-asyncio in /usr/local/lib/python3.10/dist-packages (from dash) (1.6.0)\n",
            "Requirement already satisfied: setuptools in /usr/local/lib/python3.10/dist-packages (from dash) (67.7.2)\n",
            "Requirement already satisfied: Jinja2>=3.0 in /usr/local/lib/python3.10/dist-packages (from Flask<3.1,>=1.0.4->dash) (3.1.3)\n",
            "Requirement already satisfied: itsdangerous>=2.0 in /usr/local/lib/python3.10/dist-packages (from Flask<3.1,>=1.0.4->dash) (2.1.2)\n",
            "Requirement already satisfied: click>=8.0 in /usr/local/lib/python3.10/dist-packages (from Flask<3.1,>=1.0.4->dash) (8.1.7)\n",
            "Requirement already satisfied: tenacity>=6.2.0 in /usr/local/lib/python3.10/dist-packages (from plotly>=5.0.0->dash) (8.2.3)\n",
            "Requirement already satisfied: packaging in /usr/local/lib/python3.10/dist-packages (from plotly>=5.0.0->dash) (24.0)\n",
            "Requirement already satisfied: MarkupSafe>=2.1.1 in /usr/local/lib/python3.10/dist-packages (from Werkzeug<3.1->dash) (2.1.5)\n",
            "Requirement already satisfied: zipp>=0.5 in /usr/local/lib/python3.10/dist-packages (from importlib-metadata->dash) (3.18.1)\n",
            "Requirement already satisfied: charset-normalizer<4,>=2 in /usr/local/lib/python3.10/dist-packages (from requests->dash) (3.3.2)\n",
            "Requirement already satisfied: idna<4,>=2.5 in /usr/local/lib/python3.10/dist-packages (from requests->dash) (3.6)\n",
            "Requirement already satisfied: urllib3<3,>=1.21.1 in /usr/local/lib/python3.10/dist-packages (from requests->dash) (2.0.7)\n",
            "Requirement already satisfied: certifi>=2017.4.17 in /usr/local/lib/python3.10/dist-packages (from requests->dash) (2024.2.2)\n",
            "Requirement already satisfied: six>=1.7.0 in /usr/local/lib/python3.10/dist-packages (from retrying->dash) (1.16.0)\n",
            "Installing collected packages: dash-table, dash-html-components, dash-core-components, retrying, dash\n",
            "Successfully installed dash-2.16.1 dash-core-components-2.0.0 dash-html-components-2.0.0 dash-table-5.0.0 retrying-1.3.4\n"
          ]
        }
      ],
      "source": [
        "pip install dash"
      ]
    },
    {
      "cell_type": "code",
      "execution_count": 27,
      "id": "59e2d6c7",
      "metadata": {
        "colab": {
          "base_uri": "https://localhost:8080/",
          "height": 671
        },
        "id": "59e2d6c7",
        "outputId": "21f2683c-7a08-42a6-d71f-a0d9434e953b"
      },
      "outputs": [
        {
          "output_type": "display_data",
          "data": {
            "text/plain": [
              "<IPython.core.display.Javascript object>"
            ],
            "application/javascript": [
              "(async (port, path, width, height, cache, element) => {\n",
              "    if (!google.colab.kernel.accessAllowed && !cache) {\n",
              "      return;\n",
              "    }\n",
              "    element.appendChild(document.createTextNode(''));\n",
              "    const url = await google.colab.kernel.proxyPort(port, {cache});\n",
              "    const iframe = document.createElement('iframe');\n",
              "    iframe.src = new URL(path, url).toString();\n",
              "    iframe.height = height;\n",
              "    iframe.width = width;\n",
              "    iframe.style.border = 0;\n",
              "    iframe.allow = [\n",
              "        'accelerometer',\n",
              "        'autoplay',\n",
              "        'camera',\n",
              "        'clipboard-read',\n",
              "        'clipboard-write',\n",
              "        'gyroscope',\n",
              "        'magnetometer',\n",
              "        'microphone',\n",
              "        'serial',\n",
              "        'usb',\n",
              "        'xr-spatial-tracking',\n",
              "    ].join('; ');\n",
              "    element.appendChild(iframe);\n",
              "  })(8050, \"/\", \"100%\", 650, false, window.element)"
            ]
          },
          "metadata": {}
        }
      ],
      "source": [
        "import dash\n",
        "import dash_html_components as html\n",
        "import requests\n",
        "\n",
        "app = dash.Dash(__name__)\n",
        "\n",
        "def fetch_instagram_data(username):\n",
        "    url = \"https://instagram-scraper-api2.p.rapidapi.com/v1/following\"\n",
        "    headers = {\n",
        "        \"X-RapidAPI-Key\": \"06464de97emsha249b9f10b2ac1fp1daa7bjsnd5ba63b97bca\",\n",
        "        \"X-RapidAPI-Host\": \"instagram-scraper-api2.p.rapidapi.com\"\n",
        "    }\n",
        "    response = requests.get(url, headers=headers, params={\"username_or_id_or_url\": username})\n",
        "    return response.json() if response.status_code == 200 else None\n",
        "\n",
        "instagram_data = fetch_instagram_data(\"mrbeast\")\n",
        "\n",
        "if instagram_data:\n",
        "    user_cards = [\n",
        "        html.Div([\n",
        "            html.H3(item['username']),\n",
        "        ], className='user-card')\n",
        "        for item in instagram_data['data']['items']\n",
        "    ]\n",
        "else:\n",
        "    user_cards = [html.P(\"Error fetching data. Please try again.\")]\n",
        "\n",
        "app.layout = html.Div([\n",
        "    html.H1(\"Instagram Users Followed by MrBeast\"),\n",
        "    html.Div(user_cards, className='row')\n",
        "])\n",
        "\n",
        "if __name__ == '__main__':\n",
        "    app.run_server(debug=True)\n"
      ]
    },
    {
      "cell_type": "code",
      "execution_count": null,
      "id": "7585fca2",
      "metadata": {
        "id": "7585fca2"
      },
      "outputs": [],
      "source": []
    }
  ],
  "metadata": {
    "kernelspec": {
      "display_name": "Python 3 (ipykernel)",
      "language": "python",
      "name": "python3"
    },
    "language_info": {
      "codemirror_mode": {
        "name": "ipython",
        "version": 3
      },
      "file_extension": ".py",
      "mimetype": "text/x-python",
      "name": "python",
      "nbconvert_exporter": "python",
      "pygments_lexer": "ipython3",
      "version": "3.11.4"
    },
    "colab": {
      "provenance": []
    }
  },
  "nbformat": 4,
  "nbformat_minor": 5
}
